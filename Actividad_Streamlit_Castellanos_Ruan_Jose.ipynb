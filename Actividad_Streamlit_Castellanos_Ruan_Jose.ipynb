{
  "cells": [
    {
      "cell_type": "markdown",
      "metadata": {
        "id": "view-in-github",
        "colab_type": "text"
      },
      "source": [
        "<a href=\"https://colab.research.google.com/github/xXJoc22Xx-code/POO/blob/main/Actividad_Streamlit_Castellanos_Ruan_Jose.ipynb\" target=\"_parent\"><img src=\"https://colab.research.google.com/assets/colab-badge.svg\" alt=\"Open In Colab\"/></a>"
      ]
    },
    {
      "cell_type": "code",
      "execution_count": null,
      "metadata": {
        "id": "1BBzmL673RAG"
      },
      "outputs": [],
      "source": [
        "!pip install -q streamlit"
      ]
    },
    {
      "cell_type": "code",
      "execution_count": null,
      "metadata": {
        "colab": {
          "base_uri": "https://localhost:8080/"
        },
        "id": "nzWjfZMi6wyp",
        "outputId": "2371d62e-0c40-4127-82ac-17b9c9ae33a1"
      },
      "outputs": [
        {
          "output_type": "stream",
          "name": "stdout",
          "text": [
            "Overwriting app.py\n"
          ]
        }
      ],
      "source": [
        "%%writefile app.py\n",
        "import streamlit as st\n",
        "\n",
        "class to_do:\n",
        "    def __init__(self, pendiente, numero):\n",
        "        self._pendiente = pendiente\n",
        "        self._numero = numero\n",
        "\n",
        "    @property\n",
        "    def pendiente(self):\n",
        "        return self._pendiente\n",
        "\n",
        "    @pendiente.setter\n",
        "    def pendiente(self, nuevo_pendiente):\n",
        "        self._pendiente = nuevo_pendiente\n",
        "\n",
        "    @property\n",
        "    def numero(self):\n",
        "        return self._numero\n",
        "\n",
        "    @numero.setter\n",
        "    def numero(self, valor):\n",
        "        self._numero = valor\n",
        "\n",
        "\n",
        "    def agregar_pendiente(self, tarea):\n",
        "        if tarea and tarea not in self._pendiente:\n",
        "            self._pendiente.append(tarea)\n",
        "            self._numero += 1\n",
        "\n",
        "\n",
        "    def eliminar_pendiente(self, indice):\n",
        "        if 0 <= indice < len(self._pendiente):\n",
        "            self._pendiente.pop(indice)\n",
        "            self._numero -= 1\n",
        "\n",
        "    def limpiar_pendientes(self):\n",
        "        self._pendiente = []\n",
        "        self._numero = 0\n",
        "\n",
        "\n",
        "st.title(\"TO-DO List App\")\n",
        "\n",
        "\n",
        "if 'pendientes' not in st.session_state:\n",
        "    st.session_state.pendientes = to_do(pendiente=['Hacer de comer', 'Hacer tarea'], numero=2)\n",
        "\n",
        "\n",
        "pendientes = st.session_state.pendientes\n",
        "\n",
        "\n",
        "with st.form(\"nueva_tarea_form\"):\n",
        "    nueva_tarea = st.text_input(\"Nueva tarea\", \"\")\n",
        "    agregar_tarea = st.form_submit_button(\"Agregar tarea\")\n",
        "\n",
        "    if agregar_tarea:\n",
        "        pendientes.agregar_pendiente(nueva_tarea)\n",
        "\n",
        "st.write(\"### Lista de tareas:\")\n",
        "if pendientes.numero > 0:\n",
        "    for i, tarea in enumerate(pendientes.pendiente):\n",
        "        col1, col2 = st.columns([4, 1])\n",
        "        with col1:\n",
        "            st.write(f\"{i + 1}. {tarea}\")\n",
        "        with col2:\n",
        "            if st.button(f\"Eliminar {i + 1}\"):\n",
        "                pendientes.eliminar_pendiente(i)\n",
        "                st.rerun()\n",
        "else:\n",
        "    st.write(\"No hay tareas pendientes.\")\n",
        "\n",
        "if st.button(\"Limpiar todas las tareas\"):\n",
        "    pendientes.limpiar_pendientes()\n",
        "    st.rerun()\n",
        "\n"
      ]
    },
    {
      "cell_type": "code",
      "execution_count": null,
      "metadata": {
        "colab": {
          "base_uri": "https://localhost:8080/"
        },
        "id": "OBExg8oe60mB",
        "outputId": "4a0ac653-0fea-48a9-8519-09d856bb42d6"
      },
      "outputs": [
        {
          "output_type": "stream",
          "name": "stdout",
          "text": [
            "\u001b[1G\u001b[0K⠙\u001b[1G\u001b[0K⠹\u001b[1G\u001b[0K⠸\u001b[1G\u001b[0K⠼\u001b[1G\u001b[0K⠴\u001b[1G\u001b[0K⠦\u001b[1G\u001b[0K⠧\u001b[1G\u001b[0K\n",
            "up to date, audited 23 packages in 1s\n",
            "\u001b[1G\u001b[0K⠧\u001b[1G\u001b[0K\n",
            "\u001b[1G\u001b[0K⠧\u001b[1G\u001b[0K3 packages are looking for funding\n",
            "\u001b[1G\u001b[0K⠧\u001b[1G\u001b[0K  run `npm fund` for details\n",
            "\u001b[1G\u001b[0K⠧\u001b[1G\u001b[0K\n",
            "2 \u001b[33m\u001b[1mmoderate\u001b[22m\u001b[39m severity vulnerabilities\n",
            "\n",
            "To address all issues (including breaking changes), run:\n",
            "  npm audit fix --force\n",
            "\n",
            "Run `npm audit` for details.\n",
            "\u001b[1G\u001b[0K⠧\u001b[1G\u001b[0K"
          ]
        }
      ],
      "source": [
        "!npm install localtunnel"
      ]
    },
    {
      "cell_type": "code",
      "execution_count": null,
      "metadata": {
        "id": "yqhfb6nA64A5"
      },
      "outputs": [],
      "source": [
        "!streamlit run /content/app.py &>/content/logs.txt &"
      ]
    },
    {
      "cell_type": "code",
      "execution_count": null,
      "metadata": {
        "colab": {
          "base_uri": "https://localhost:8080/"
        },
        "id": "42yyTa20666p",
        "outputId": "d72edd58-b7ab-47d1-ca8a-86480a3b0635"
      },
      "outputs": [
        {
          "output_type": "stream",
          "name": "stdout",
          "text": [
            "\u001b[1G\u001b[0K⠙\u001b[1G\u001b[0Kyour url is: https://many-shirts-open.loca.lt\n"
          ]
        }
      ],
      "source": [
        "!npx localtunnel --port 8501"
      ]
    }
  ],
  "metadata": {
    "colab": {
      "provenance": [],
      "authorship_tag": "ABX9TyOV851iGlYVLarzR6YtR82F",
      "include_colab_link": true
    },
    "kernelspec": {
      "display_name": "Python 3",
      "name": "python3"
    },
    "language_info": {
      "name": "python"
    }
  },
  "nbformat": 4,
  "nbformat_minor": 0
}