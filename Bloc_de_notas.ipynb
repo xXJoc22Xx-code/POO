{
  "nbformat": 4,
  "nbformat_minor": 0,
  "metadata": {
    "colab": {
      "provenance": [],
      "include_colab_link": true
    },
    "kernelspec": {
      "name": "python3",
      "display_name": "Python 3"
    },
    "language_info": {
      "name": "python"
    }
  },
  "cells": [
    {
      "cell_type": "markdown",
      "metadata": {
        "id": "view-in-github",
        "colab_type": "text"
      },
      "source": [
        "<a href=\"https://colab.research.google.com/github/xXJoc22Xx-code/POO/blob/main/Bloc_de_notas.ipynb\" target=\"_parent\"><img src=\"https://colab.research.google.com/assets/colab-badge.svg\" alt=\"Open In Colab\"/></a>"
      ]
    },
    {
      "cell_type": "code",
      "execution_count": null,
      "metadata": {
        "id": "l9MhnqtkeGik"
      },
      "outputs": [],
      "source": [
        "!pip install -q streamlit"
      ]
    },
    {
      "cell_type": "code",
      "source": [
        "%%writefile app.py\n",
        "import streamlit as st\n",
        "import uuid\n",
        "\n",
        "#Clases y Funciones\n",
        "\n",
        "class Nota:\n",
        "  def __init__(self,titulo,contenido):\n",
        "    self.id = str(uuid.uuid4())\n",
        "    self.titulo = titulo\n",
        "    self.contenido = contenido\n",
        "\n",
        "  def mostrar(self):\n",
        "    return f\"Titulo: {self.titulo}\\nContenido: {self.contenido}\"\n",
        "\n",
        "class NotaTexto(Nota):\n",
        "  def mostrar(self):\n",
        "    return f\"{self.contenido}\"\n",
        "\n",
        "class NotaLista(Nota):\n",
        "  def __init__(self,titulo,items):\n",
        "    contenido= \"\\n\".join(f\"-{item}\" for item in items)\n",
        "    super().__init__(titulo,contenido)\n",
        "    self.items = items\n",
        "\n",
        "  def mostrar(self):\n",
        "    return f\"\\n\".join(f\"- {item}\" for item in self.items)\n",
        "\n",
        "class NotaImagen(Nota):\n",
        "  def __init__(self,titulo,url,descripcion=\"\"):\n",
        "    super().__init__(titulo,descripcion)\n",
        "    self.url = url\n",
        "\n",
        "  def mostrar(self):\n",
        "      st.image(self.url, caption=self.titulo, use_container_width=True)\n",
        "      return f\"Descripcion: {self.contenido}\"\n",
        "\n",
        "\n",
        "\n",
        "class BlocDeNotas:\n",
        "  def __init__(self):\n",
        "    self.notas={}\n",
        "\n",
        "  def agregar_nota(self,nota):\n",
        "    self.notas[nota.id] = nota\n",
        "\n",
        "  def obtener_notas(self):\n",
        "    return list(self.notas.values())\n",
        "\n",
        "  def buscar_nota(self,titulo):\n",
        "    return[nota for nota in self.notas.values() if titulo.lower() in nota.titulo.lower()]\n",
        "\n",
        "  def eliminar_nota(self,id_nota):\n",
        "    if id_nota in self.notas:\n",
        "      del self.notas[id_nota]\n",
        "      return True\n",
        "    return False\n",
        "\n",
        "  #Main\n",
        "\n",
        "def main():\n",
        "    st.title(\"====Bloc De Notas====\")\n",
        "\n",
        "    if'bloc' not in st.session_state:\n",
        "      st.session_state.bloc = BlocDeNotas()\n",
        "\n",
        "    st.sidebar.header(\"Menu\")\n",
        "    opcion = st.sidebar.selectbox(\n",
        "        \"Seleccione una opcion\",\n",
        "        [\"Crear Nota\",\"Mostrar Notas\",\"Buscar Nota\", \"Eliminar Nota\"]\n",
        "    )\n",
        "    #Opcion 1\n",
        "    if opcion == \"Crear Nota\":\n",
        "      st.header(\"Crear Nueva Nota\")\n",
        "      tipo_nota = st.selectbox(\"Tipo de nota: \",[\"Texto\",\"Lista\",\"Imagen\"])\n",
        "      titulo = st.text_input(\"Titulo de la nota*\")\n",
        "\n",
        "      if tipo_nota == \"Texto\":\n",
        "        contenido = st.text_area(\"Contenido de la nota\")\n",
        "        if st.button(\"Guardar Nota de Texto\") and titulo:\n",
        "          st.session_state.bloc.agregar_nota(NotaTexto(titulo,contenido))\n",
        "          st.success(\"Nota de Texto agregada con exito!\")\n",
        "\n",
        "      elif tipo_nota == \"Lista\":\n",
        "        items_text = st.text_area(\"Elementos de la lista (elemento/linea )\")\n",
        "        items = [item.strip() for item in items_text.split('\\n') if item.strip()]\n",
        "        if st.button(\"Guardar Nota de Lista\") and titulo and items:\n",
        "          st.session_state.bloc.agregar_nota(NotaLista(titulo,items))\n",
        "          st.success(\"Nota de Lista agregada con exito!\")\n",
        "\n",
        "      elif tipo_nota == \"Imagen\":\n",
        "        url = st.text_input(\"URL de la imagen (Ejemplo: https://ejemplo.com/imagen.jpg): \")\n",
        "        descripcion = st.text_area(\"Descripcion de la imagen\")\n",
        "        if st.button(\"Guardar Nota de Imagen\") and titulo and url:\n",
        "          st.session_state.bloc.agregar_nota(NotaImagen(titulo,url,descripcion))\n",
        "          st.success(\"Nota de Imagen agregada con exito!\")\n",
        "    #Opcion 2\n",
        "    elif opcion == \"Mostrar Notas\":\n",
        "      st.header(\"Todas las notas\")\n",
        "      notas = st.session_state.bloc.obtener_notas()\n",
        "\n",
        "      if not notas:\n",
        "        st.info(\"No hay notas aun\")\n",
        "      else:\n",
        "        for nota in notas:\n",
        "          st.subheader(nota.titulo)\n",
        "          if isinstance(nota, NotaImagen):\n",
        "            st.write(nota.contenido)\n",
        "            nota.mostrar()\n",
        "          else:\n",
        "            st.write(nota.mostrar())\n",
        "          st.write(\"---\")\n",
        "    #Opcion 3\n",
        "    elif opcion == \"Buscar Nota\":\n",
        "      st.header(\"Buscar Nota por titulo\")\n",
        "      busqueda = st.text_input(\"Ingrese parte del titulo para buscar\")\n",
        "\n",
        "      if st.button(\"Buscar Notas\"):\n",
        "        if busqueda:\n",
        "          resultados = st.session_state.bloc.buscar_nota(busqueda)\n",
        "          if resultados:\n",
        "            st.success(f\"Se encontraron {len(resultados)} notas: \")\n",
        "            for nota in resultados:\n",
        "              st.subheader(nota.titulo)\n",
        "              if isinstance(nota, NotaImagen):\n",
        "                st.write(nota.contenido)\n",
        "                nota.mostrar()\n",
        "              else:\n",
        "                st.write(nota.mostrar())\n",
        "              st.write(\"---\")\n",
        "          else:\n",
        "            st.warning(\"No se encontraron notas con ese titulo\")\n",
        "        else:\n",
        "          st.warning(\"Por favor ingrese un termino de busqueda\")\n",
        "\n",
        "    #Opcion 4\n",
        "    elif opcion == \"Eliminar Nota\":\n",
        "      st.header(\"Eliminar Nota\")\n",
        "      notas = st.session_state.bloc.obtener_notas()\n",
        "\n",
        "      if notas:\n",
        "        nota_a_eliminar = st.selectbox(\n",
        "            \"Seleccione una nota para eliminar\",\n",
        "            options=notas,\n",
        "            format_func=lambda nota: nota.titulo\n",
        "        )\n",
        "\n",
        "        if st.button(\"Eliminar Nota Seleccionada\"):\n",
        "          if st.session_state.bloc.eliminar_nota(nota_a_eliminar.id):\n",
        "            st.success(f\"Nota '{nota_a_eliminar.titulo}' eliminada con exito!\")\n",
        "            st.rerun()\n",
        "          else:\n",
        "            st.error(\"Error al eliminar la nota\")\n",
        "      else:\n",
        "        st.info(\"No hay notas para eliminar\")\n",
        "\n",
        "if __name__ == \"__main__\":\n",
        "  main()"
      ],
      "metadata": {
        "id": "aO2BrGLMeL20",
        "colab": {
          "base_uri": "https://localhost:8080/"
        },
        "outputId": "61cc1545-33c3-4aa8-b35d-bfd539113834"
      },
      "execution_count": null,
      "outputs": [
        {
          "output_type": "stream",
          "name": "stdout",
          "text": [
            "Overwriting app.py\n"
          ]
        }
      ]
    },
    {
      "cell_type": "code",
      "source": [
        "!npm install localtunnel"
      ],
      "metadata": {
        "colab": {
          "base_uri": "https://localhost:8080/"
        },
        "id": "lTqGUTlmeRYV",
        "outputId": "227f7df9-5074-4f1e-ad83-8bca98b07e92"
      },
      "execution_count": null,
      "outputs": [
        {
          "output_type": "stream",
          "name": "stdout",
          "text": [
            "\u001b[1G\u001b[0K⠙\u001b[1G\u001b[0K⠹\u001b[1G\u001b[0K⠸\u001b[1G\u001b[0K⠼\u001b[1G\u001b[0K⠴\u001b[1G\u001b[0K⠦\u001b[1G\u001b[0K⠧\u001b[1G\u001b[0K⠇\u001b[1G\u001b[0K\n",
            "up to date, audited 23 packages in 1s\n",
            "\u001b[1G\u001b[0K⠇\u001b[1G\u001b[0K\n",
            "\u001b[1G\u001b[0K⠇\u001b[1G\u001b[0K3 packages are looking for funding\n",
            "\u001b[1G\u001b[0K⠇\u001b[1G\u001b[0K  run `npm fund` for details\n",
            "\u001b[1G\u001b[0K⠇\u001b[1G\u001b[0K\n",
            "2 \u001b[31m\u001b[1mhigh\u001b[22m\u001b[39m severity vulnerabilities\n",
            "\n",
            "To address all issues (including breaking changes), run:\n",
            "  npm audit fix --force\n",
            "\n",
            "Run `npm audit` for details.\n",
            "\u001b[1G\u001b[0K⠇\u001b[1G\u001b[0K"
          ]
        }
      ]
    },
    {
      "cell_type": "code",
      "source": [
        "!streamlit run app.py &>/content/logs.txt & npx localtunnel --port 8501 & curl ipv4.icanhazip.com"
      ],
      "metadata": {
        "colab": {
          "base_uri": "https://localhost:8080/"
        },
        "id": "juKP_DmDeR6s",
        "outputId": "694414a5-7d58-43d1-adbf-e5c74ecfccb7"
      },
      "execution_count": null,
      "outputs": [
        {
          "output_type": "stream",
          "name": "stdout",
          "text": [
            "34.106.4.143\n",
            "\u001b[1G\u001b[0K⠙\u001b[1G\u001b[0Kyour url is: https://cute-mugs-dress.loca.lt\n"
          ]
        }
      ]
    }
  ]
}