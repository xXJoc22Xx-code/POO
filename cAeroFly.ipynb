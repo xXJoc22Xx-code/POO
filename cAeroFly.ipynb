{
  "cells": [
    {
      "cell_type": "markdown",
      "metadata": {
        "id": "view-in-github",
        "colab_type": "text"
      },
      "source": [
        "<a href=\"https://colab.research.google.com/github/xXJoc22Xx-code/POO/blob/main/cAeroFly.ipynb\" target=\"_parent\"><img src=\"https://colab.research.google.com/assets/colab-badge.svg\" alt=\"Open In Colab\"/></a>"
      ]
    },
    {
      "cell_type": "code",
      "execution_count": null,
      "metadata": {
        "colab": {
          "base_uri": "https://localhost:8080/"
        },
        "id": "NN7wZl3PTGZ9",
        "outputId": "bdec0728-1fc9-4d73-a98b-da7abe0c5d03"
      },
      "outputs": [
        {
          "name": "stdout",
          "output_type": "stream",
          "text": [
            "\u001b[2K     \u001b[90m━━━━━━━━━━━━━━━━━━━━━━━━━━━━━━━━━━━━━━━━\u001b[0m \u001b[32m44.3/44.3 kB\u001b[0m \u001b[31m1.2 MB/s\u001b[0m eta \u001b[36m0:00:00\u001b[0m\n",
            "\u001b[2K   \u001b[90m━━━━━━━━━━━━━━━━━━━━━━━━━━━━━━━━━━━━━━━━\u001b[0m \u001b[32m9.8/9.8 MB\u001b[0m \u001b[31m29.3 MB/s\u001b[0m eta \u001b[36m0:00:00\u001b[0m\n",
            "\u001b[2K   \u001b[90m━━━━━━━━━━━━━━━━━━━━━━━━━━━━━━━━━━━━━━━━\u001b[0m \u001b[32m6.9/6.9 MB\u001b[0m \u001b[31m54.3 MB/s\u001b[0m eta \u001b[36m0:00:00\u001b[0m\n",
            "\u001b[2K   \u001b[90m━━━━━━━━━━━━━━━━━━━━━━━━━━━━━━━━━━━━━━━━\u001b[0m \u001b[32m79.1/79.1 kB\u001b[0m \u001b[31m4.8 MB/s\u001b[0m eta \u001b[36m0:00:00\u001b[0m\n",
            "\u001b[?25h"
          ]
        }
      ],
      "source": [
        "!pip install -q streamlit"
      ]
    },
    {
      "cell_type": "code",
      "execution_count": null,
      "metadata": {
        "colab": {
          "base_uri": "https://localhost:8080/"
        },
        "id": "tMT5GtNtTPxE",
        "outputId": "b9797abd-8a14-4042-efb0-10cf63e0bc9d"
      },
      "outputs": [
        {
          "name": "stdout",
          "output_type": "stream",
          "text": [
            "Overwriting app.py\n"
          ]
        }
      ],
      "source": [
        "%%writefile app.py\n",
        "import streamlit as st\n",
        "from datetime import datetime\n",
        "\n",
        "# Clases\n",
        "class Aerolinea:\n",
        "    def __init__(self, nombre):\n",
        "        self.nombre = nombre\n",
        "        if \"destinos\" not in st.session_state:\n",
        "            st.session_state.destinos = [\n",
        "            \"Albania\", \"Alemania\", \"Andorra\", \"Austria\", \"Bélgica\", \"Bielorrusia\",\n",
        "            \"Bosnia y Herzegovina\",  \"Bulgaria\",  \"Chequia\", \"Chipre\",  \"Croacia\",\n",
        "            \"Dinamarca\",   \"Eslovaquia\",     \"Eslovenia\",   \"España\",   \"Estonia\",\n",
        "            \"Finlandia\",   \"Francia\",    \"Gran Bretaña\",    \"Grecia\",   \"Holanda\",\n",
        "            \"Hungría\",     \"Italia\",     \"Irlanda\",       \"Islandia\",   \"Letonia\",\n",
        "            \"Liechtenstein\",   \"Lituania\",  \"Luxemburgo\", \"Macedonia\", \"Moldavia\",\n",
        "            \"Malta\",   \"Mónaco\",   \"Noruega\",  \"Polonia\",   \"Portugal\", \"Rumania\",\n",
        "            \"Rusia\",   \"San Marino\",  \"Serbia y Montenegro\",   \"Suecia\",  \"Suiza\",\n",
        "            \"Ucrania\" ] # Destinos predefinidos\n",
        "        if \"vuelos\" not in st.session_state:\n",
        "            st.session_state.vuelos = []\n",
        "        if \"reservas\" not in st.session_state:\n",
        "            st.session_state.reservas = []\n",
        "        self.horarios_salida = [\"5:00 AM\", \"8:00 PM\"]\n",
        "        self.dias_salida = [0, 2, 4]  # Lunes=0, Miércoles=2, Viernes=4\n",
        "\n",
        "    def agregar_destino(self, destino):\n",
        "        if destino not in st.session_state.destinos:\n",
        "            st.session_state.destinos.append(destino)\n",
        "            st.success(f\"Destino {destino} agregado correctamente.\")\n",
        "        else:\n",
        "            st.warning(f\"El destino {destino} ya existe.\")\n",
        "\n",
        "    def eliminar_destino(self, destino):\n",
        "        if destino in st.session_state.destinos:\n",
        "            st.session_state.destinos.remove(destino)\n",
        "            st.success(f\"Destino {destino} eliminado correctamente.\")\n",
        "        else:\n",
        "            st.warning(f\"El destino {destino} no existe.\")\n",
        "\n",
        "    def mostrar_destinos(self):\n",
        "        return st.session_state.destinos\n",
        "\n",
        "    def crear_vuelo(self, destino, fecha_salida, hora_salida, numero_vuelo, asientos_disponibles):\n",
        "        if destino not in st.session_state.destinos:\n",
        "            st.warning(f\"El destino {destino} no está disponible.\")\n",
        "            return\n",
        "        if hora_salida not in self.horarios_salida:\n",
        "            st.warning(f\"El horario {hora_salida} no es válido.\")\n",
        "            return\n",
        "        dia_semana = fecha_salida.weekday()  # 0=Lunes, 1=Martes, ..., 6=Domingo\n",
        "        if dia_semana not in self.dias_salida:\n",
        "            st.warning(f\"El día {fecha_salida.strftime('%A')} no es válido. Los vuelos solo salen los Lunes, Miércoles y Viernes.\")\n",
        "            return\n",
        "        vuelo = Vuelo(destino, fecha_salida, hora_salida, numero_vuelo, asientos_disponibles)\n",
        "        st.session_state.vuelos.append(vuelo)\n",
        "        st.success(f\"Vuelo {numero_vuelo} creado correctamente.\")\n",
        "\n",
        "    def buscar_vuelos(self, destino, fecha):\n",
        "        vuelos_disponibles = []\n",
        "        for vuelo in st.session_state.vuelos:\n",
        "            if vuelo.destino == destino and vuelo.fecha_salida.date() == fecha.date():\n",
        "                vuelos_disponibles.append(vuelo)\n",
        "        return vuelos_disponibles\n",
        "\n",
        "    def agregar_reserva(self, reserva):\n",
        "        st.session_state.reservas.append(reserva)\n",
        "        st.success(f\"Reserva {reserva.codigo_reserva} creada correctamente.\")\n",
        "\n",
        "    def eliminar_reserva(self, codigo_reserva):\n",
        "        for reserva in st.session_state.reservas:\n",
        "            if reserva.codigo_reserva == codigo_reserva:\n",
        "                # Liberar el asiento en el vuelo correspondiente\n",
        "                reserva.vuelo.cancelar_reserva(reserva.pasajero)\n",
        "                st.session_state.reservas.remove(reserva)\n",
        "                st.success(f\"Reserva {codigo_reserva} eliminada correctamente.\")\n",
        "                return\n",
        "        st.warning(f\"No se encontró una reserva con el código {codigo_reserva}.\")\n",
        "\n",
        "    def mostrar_reservas(self):\n",
        "        return st.session_state.reservas\n",
        "\n",
        "class Vuelo:\n",
        "    def __init__(self, destino, fecha_salida, hora_salida, numero_vuelo, asientos_disponibles):\n",
        "        self.destino = destino\n",
        "        self.fecha_salida = fecha_salida\n",
        "        self.hora_salida = hora_salida\n",
        "        self.numero_vuelo = numero_vuelo\n",
        "        self.asientos_disponibles = asientos_disponibles\n",
        "        self.pasajeros = []\n",
        "\n",
        "    def reservar_asiento(self, pasajero):\n",
        "        if self.asientos_disponibles > 0:\n",
        "            self.pasajeros.append(pasajero)\n",
        "            self.asientos_disponibles -= 1\n",
        "            return True\n",
        "        else:\n",
        "            return False\n",
        "\n",
        "    def cancelar_reserva(self, pasajero):\n",
        "        if pasajero in self.pasajeros:\n",
        "            self.pasajeros.remove(pasajero)\n",
        "            self.asientos_disponibles += 1\n",
        "            return True\n",
        "        else:\n",
        "            return False\n",
        "\n",
        "    def mostrar_info(self):\n",
        "        return f\"Vuelo {self.numero_vuelo} a {self.destino} el {self.fecha_salida.strftime('%Y-%m-%d')} a las {self.hora_salida}. Asientos disponibles: {self.asientos_disponibles}\"\n",
        "\n",
        "class Pasajero:\n",
        "    def __init__(self, nombre, pasaporte, contacto):\n",
        "        self.nombre = nombre\n",
        "        self.pasaporte = pasaporte\n",
        "        self.contacto = contacto\n",
        "\n",
        "    def mostrar_info(self):\n",
        "        return f\"Pasajero: {self.nombre}, Pasaporte: {self.pasaporte}, Contacto: {self.contacto}\"\n",
        "\n",
        "class Reserva:\n",
        "    def __init__(self, pasajero, vuelo, asientos_reservados, codigo_reserva):\n",
        "        self.pasajero = pasajero\n",
        "        self.vuelo = vuelo\n",
        "        self.asientos_reservados = asientos_reservados\n",
        "        self.codigo_reserva = codigo_reserva\n",
        "\n",
        "    def mostrar_info(self):\n",
        "        return f\"Reserva {self.codigo_reserva}: {self.pasajero.nombre} en el vuelo {self.vuelo.numero_vuelo} con {self.asientos_reservados} asientos.\"\n",
        "\n",
        "# Interfaz de Streamlit\n",
        "def main():\n",
        "    st.title(\"Sistema de Gestión de Reservas de AeroFly\")\n",
        "\n",
        "    if \"aerolinea\" not in st.session_state:\n",
        "        st.session_state.aerolinea = Aerolinea(\"AeroFly\")\n",
        "\n",
        "    aerolinea = st.session_state.aerolinea\n",
        "\n",
        "    menu = st.sidebar.selectbox(\"Menú\", [ \"Crear Vuelo\", \"Buscar Vuelos\", \"Reservar Vuelo\", \"Mostrar Reservas\", \"Eliminar Reserva\"])\n",
        "\n",
        "    if menu == \"Crear Vuelo\":\n",
        "        destino = st.selectbox(\"Seleccione el destino:\", aerolinea.mostrar_destinos())\n",
        "        fecha_salida = st.date_input(\"Seleccione la fecha de salida:\")\n",
        "        hora_salida = st.selectbox(\"Seleccione la hora de salida:\", aerolinea.horarios_salida)\n",
        "        numero_vuelo = st.text_input(\"Ingrese el número de vuelo:\")\n",
        "        asientos_disponibles = st.number_input(\"Ingrese el número de asientos disponibles:\", min_value=1)\n",
        "        if st.button(\"Crear Vuelo\"):\n",
        "            aerolinea.crear_vuelo(destino, datetime.combine(fecha_salida, datetime.strptime(hora_salida, \"%I:%M %p\").time()), hora_salida, numero_vuelo, asientos_disponibles)\n",
        "\n",
        "    elif menu == \"Buscar Vuelos\":\n",
        "        destino = st.selectbox(\"Seleccione el destino:\", aerolinea.mostrar_destinos())\n",
        "        fecha = st.date_input(\"Seleccione la fecha:\")\n",
        "        if st.button(\"Buscar Vuelos\"):\n",
        "            vuelos_disponibles = aerolinea.buscar_vuelos(destino, datetime.combine(fecha, datetime.min.time()))\n",
        "            if vuelos_disponibles:\n",
        "                for vuelo in vuelos_disponibles:\n",
        "                    st.write(vuelo.mostrar_info())\n",
        "            else:\n",
        "                st.warning(\"No hay vuelos disponibles para la fecha y destino seleccionados.\")\n",
        "\n",
        "    elif menu == \"Reservar Vuelo\":\n",
        "        st.header(\"Reservar Vuelo\")\n",
        "        nombre = st.text_input(\"Nombre del pasajero:\")\n",
        "        pasaporte = st.text_input(\"Número de pasaporte:\")\n",
        "        contacto = st.text_input(\"Información de contacto:\")\n",
        "        destino = st.selectbox(\"Seleccione el destino:\", aerolinea.mostrar_destinos())\n",
        "        fecha = st.date_input(\"Seleccione la fecha:\")\n",
        "        if st.button(\"Buscar Vuelos para Reservar\"):\n",
        "            vuelos_disponibles = aerolinea.buscar_vuelos(destino, datetime.combine(fecha, datetime.min.time()))\n",
        "            if vuelos_disponibles:\n",
        "                st.session_state.vuelos_disponibles = vuelos_disponibles\n",
        "            else:\n",
        "                st.warning(\"No hay vuelos disponibles para la fecha y destino seleccionados.\")\n",
        "\n",
        "        if \"vuelos_disponibles\" in st.session_state:\n",
        "            vuelo_seleccionado = st.selectbox(\"Seleccione el vuelo:\", [vuelo.mostrar_info() for vuelo in st.session_state.vuelos_disponibles])\n",
        "            if st.button(\"Reservar Vuelo\"):\n",
        "                pasajero = Pasajero(nombre, pasaporte, contacto)\n",
        "                vuelo = st.session_state.vuelos_disponibles[[vuelo.mostrar_info() for vuelo in st.session_state.vuelos_disponibles].index(vuelo_seleccionado)]\n",
        "                if vuelo.reservar_asiento(pasajero):\n",
        "                    codigo_reserva = f\"RES-{len(st.session_state.reservas) + 1}\"\n",
        "                    reserva = Reserva(pasajero, vuelo, 1, codigo_reserva)\n",
        "                    aerolinea.agregar_reserva(reserva)\n",
        "                else:\n",
        "                    st.warning(\"No hay asientos disponibles en este vuelo.\")\n",
        "\n",
        "    elif menu == \"Mostrar Reservas\":\n",
        "        st.header(\"Reservas Realizadas\")\n",
        "        reservas = aerolinea.mostrar_reservas()\n",
        "        if reservas:\n",
        "            for reserva in reservas:\n",
        "                st.write(reserva.mostrar_info())\n",
        "        else:\n",
        "            st.warning(\"No hay reservas realizadas.\")\n",
        "\n",
        "    elif menu == \"Eliminar Reserva\":\n",
        "        st.header(\"Eliminar Reserva\")\n",
        "        codigo_reserva = st.text_input(\"Ingrese el código de reserva:\")\n",
        "        if st.button(\"Eliminar Reserva\"):\n",
        "            aerolinea.eliminar_reserva(codigo_reserva)\n",
        "\n",
        "if __name__ == \"__main__\":\n",
        "    main()"
      ]
    },
    {
      "cell_type": "code",
      "execution_count": null,
      "metadata": {
        "colab": {
          "base_uri": "https://localhost:8080/"
        },
        "id": "NoZCSGbtTTjU",
        "outputId": "1d5ad7d5-ebd8-4791-f7b1-797a0fdb4736"
      },
      "outputs": [
        {
          "name": "stdout",
          "output_type": "stream",
          "text": [
            "\u001b[1G\u001b[0K⠙\u001b[1G\u001b[0K⠹\u001b[1G\u001b[0K⠸\u001b[1G\u001b[0K⠼\u001b[1G\u001b[0K⠴\u001b[1G\u001b[0K\n",
            "up to date, audited 23 packages in 934ms\n",
            "\u001b[1G\u001b[0K⠴\u001b[1G\u001b[0K\n",
            "\u001b[1G\u001b[0K⠴\u001b[1G\u001b[0K3 packages are looking for funding\n",
            "\u001b[1G\u001b[0K⠴\u001b[1G\u001b[0K  run `npm fund` for details\n",
            "\u001b[1G\u001b[0K⠴\u001b[1G\u001b[0K\n",
            "2 \u001b[31m\u001b[1mhigh\u001b[22m\u001b[39m severity vulnerabilities\n",
            "\n",
            "To address all issues (including breaking changes), run:\n",
            "  npm audit fix --force\n",
            "\n",
            "Run `npm audit` for details.\n",
            "\u001b[1G\u001b[0K⠴\u001b[1G\u001b[0K"
          ]
        }
      ],
      "source": [
        "!npm install localtunnel"
      ]
    },
    {
      "cell_type": "code",
      "execution_count": null,
      "metadata": {
        "id": "ncSSEfPwTVoQ"
      },
      "outputs": [],
      "source": [
        "!streamlit run /content/app.py &>/content/logs.txt &"
      ]
    },
    {
      "cell_type": "code",
      "execution_count": null,
      "metadata": {
        "colab": {
          "background_save": true,
          "base_uri": "https://localhost:8080/"
        },
        "id": "3_8C1tofTW9E",
        "outputId": "b595c670-67d5-498f-9adf-0584de1d004a"
      },
      "outputs": [
        {
          "name": "stdout",
          "output_type": "stream",
          "text": [
            "\u001b[1G\u001b[0K⠙\u001b[1G\u001b[0Kyour url is: https://fuzzy-papers-wink.loca.lt\n"
          ]
        }
      ],
      "source": [
        "!npx localtunnel --port 8501"
      ]
    }
  ],
  "metadata": {
    "colab": {
      "provenance": [],
      "authorship_tag": "ABX9TyM66mI6+BaJOomHnrBM8vHq",
      "include_colab_link": true
    },
    "kernelspec": {
      "display_name": "Python 3",
      "name": "python3"
    },
    "language_info": {
      "name": "python"
    }
  },
  "nbformat": 4,
  "nbformat_minor": 0
}